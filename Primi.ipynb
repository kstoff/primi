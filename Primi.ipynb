{
 "cells": [
  {
   "cell_type": "code",
   "execution_count": 10,
   "metadata": {},
   "outputs": [
    {
     "name": "stderr",
     "output_type": "stream",
     "text": [
      "'ls' is not recognized as an internal or external command,\n",
      "operable program or batch file.\n"
     ]
    }
   ],
   "source": [
    "!ls"
   ]
  },
  {
   "cell_type": "code",
   "execution_count": 1,
   "metadata": {},
   "outputs": [
    {
     "name": "stdout",
     "output_type": "stream",
     "text": [
      "14 February\n"
     ]
    }
   ],
   "source": [
    "#return today´s date\n",
    "\n",
    "import datetime\n",
    "\n",
    "#print current date\n",
    "date = datetime.datetime.now()\n",
    "print(date.strftime(\"%d %B\"))"
   ]
  },
  {
   "cell_type": "code",
   "execution_count": 2,
   "metadata": {},
   "outputs": [],
   "source": [
    "#get\n",
    "\n",
    "import requests\n",
    "page = requests.get(\"https://en.wikipedia.org/wiki/National_day\")"
   ]
  },
  {
   "cell_type": "code",
   "execution_count": 3,
   "metadata": {},
   "outputs": [
    {
     "name": "stdout",
     "output_type": "stream",
     "text": [
      "14 February\n"
     ]
    }
   ],
   "source": [
    "#https://www.crummy.com/software/BeautifulSoup/bs4/doc/\n",
    "#https://www.dataquest.io/blog/web-scraping-tutorial-python/\n",
    "#https://en.wikipedia.org/wiki/National_day\n",
    "\n",
    "from bs4 import BeautifulSoup\n",
    "soup = BeautifulSoup(page.content, 'html.parser')\n",
    "\n",
    "#return all national days\n",
    "national_days = soup.find_all('td')\n",
    "\n",
    "#date = datetime.datetime(2019, 11, 18)\n",
    "\n",
    "#return national days current month\n",
    "#for index, item in enumerate(national_days):\n",
    "#    if item.get_text().find(date.strftime(\"%B\")) != -1:\n",
    "#        print (national_days[index - 1].get_text(), item.get_text())\n",
    "        \n",
    "#return national days today\n",
    "print(date.strftime(\"%d %B\"))\n",
    "for index, item in enumerate(national_days):\n",
    "    if item.get_text().find(date.strftime(\"%d %B\")) != -1:\n",
    "        print (national_days[index - 1].get_text())"
   ]
  },
  {
   "cell_type": "markdown",
   "metadata": {},
   "source": [
    "The Pig Mac\n",
    "\n",
    "\n",
    "\n",
    "Preheat oven to 225 C.\n",
    "\n",
    "Cook macaroni.\n",
    "\n",
    "Shred or grate parmesan, smoked cheddar.\n",
    "\n",
    "Make Béchamel sauce from 50 g butter, 3 tbsp flour, cook on medium heat until golden, whisk in 1 l milk.\n",
    "\n",
    "Season with salt and pepper.\n",
    "\n",
    "Add macaroni to sauce.\n",
    "\n",
    "Take pan off heat.\n",
    "\n",
    "Stir in cheeses.\n",
    "\n",
    "Add a couple of splashes of Worcestershire sauce.\n",
    "\n",
    "Add a grating of nutmeg.\n",
    "\n",
    "Add water if needed.\n",
    "\n",
    "Top with mozzarella and smoked cheddar.\n",
    "\n",
    "Bake macaroni for 30 minutes in oven until bubbly and golden.\n",
    "\n",
    "\n",
    "Toppings: The Philly Cheese Steak\n",
    "\n",
    "Roast peppers.\n",
    "\n",
    "Grill flat iron steak.\n",
    "\n",
    "Sauté onion.\n",
    "\n"
   ]
  },
  {
   "cell_type": "code",
   "execution_count": 4,
   "metadata": {},
   "outputs": [
    {
     "data": {
      "text/plain": [
       "1234567654321"
      ]
     },
     "execution_count": 4,
     "metadata": {},
     "output_type": "execute_result"
    }
   ],
   "source": [
    "1111111 * 1111111"
   ]
  },
  {
   "cell_type": "code",
   "execution_count": 5,
   "metadata": {},
   "outputs": [
    {
     "data": {
      "text/plain": [
       "123456787654321"
      ]
     },
     "execution_count": 5,
     "metadata": {},
     "output_type": "execute_result"
    }
   ],
   "source": [
    "11111111 * 11111111"
   ]
  },
  {
   "cell_type": "code",
   "execution_count": 6,
   "metadata": {},
   "outputs": [
    {
     "data": {
      "text/plain": [
       "12345678987654321"
      ]
     },
     "execution_count": 6,
     "metadata": {},
     "output_type": "execute_result"
    }
   ],
   "source": [
    "111111111 * 111111111"
   ]
  },
  {
   "cell_type": "code",
   "execution_count": 7,
   "metadata": {},
   "outputs": [
    {
     "data": {
      "text/plain": [
       "1234567900987654321"
      ]
     },
     "execution_count": 7,
     "metadata": {},
     "output_type": "execute_result"
    }
   ],
   "source": [
    "1111111111 * 1111111111"
   ]
  },
  {
   "cell_type": "code",
   "execution_count": null,
   "metadata": {},
   "outputs": [],
   "source": []
  }
 ],
 "metadata": {
  "kernelspec": {
   "display_name": "Python 3",
   "language": "python",
   "name": "python3"
  },
  "language_info": {
   "codemirror_mode": {
    "name": "ipython",
    "version": 3
   },
   "file_extension": ".py",
   "mimetype": "text/x-python",
   "name": "python",
   "nbconvert_exporter": "python",
   "pygments_lexer": "ipython3",
   "version": "3.7.4"
  }
 },
 "nbformat": 4,
 "nbformat_minor": 2
}
